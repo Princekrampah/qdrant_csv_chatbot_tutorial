{
 "cells": [
  {
   "cell_type": "markdown",
   "metadata": {},
   "source": [
    "## Installations"
   ]
  },
  {
   "cell_type": "code",
   "execution_count": 98,
   "metadata": {},
   "outputs": [
    {
     "name": "stdout",
     "output_type": "stream",
     "text": [
      "Requirement already satisfied: pandas in ./venv/lib/python3.10/site-packages (2.2.2)\n",
      "Requirement already satisfied: langchain-openai in ./venv/lib/python3.10/site-packages (0.1.22)\n",
      "Requirement already satisfied: qdrant-client in ./venv/lib/python3.10/site-packages (1.11.0)\n",
      "Requirement already satisfied: langchain in ./venv/lib/python3.10/site-packages (0.2.14)\n",
      "Requirement already satisfied: langchain-community in ./venv/lib/python3.10/site-packages (0.2.12)\n",
      "Requirement already satisfied: langchain-qdrant in ./venv/lib/python3.10/site-packages (0.1.3)\n",
      "Requirement already satisfied: numpy>=1.22.4 in ./venv/lib/python3.10/site-packages (from pandas) (1.26.4)\n",
      "Requirement already satisfied: tzdata>=2022.7 in ./venv/lib/python3.10/site-packages (from pandas) (2024.1)\n",
      "Requirement already satisfied: pytz>=2020.1 in ./venv/lib/python3.10/site-packages (from pandas) (2024.1)\n",
      "Requirement already satisfied: python-dateutil>=2.8.2 in ./venv/lib/python3.10/site-packages (from pandas) (2.9.0.post0)\n",
      "Requirement already satisfied: tiktoken<1,>=0.7 in ./venv/lib/python3.10/site-packages (from langchain-openai) (0.7.0)\n",
      "Requirement already satisfied: langchain-core<0.3.0,>=0.2.33 in ./venv/lib/python3.10/site-packages (from langchain-openai) (0.2.33)\n",
      "Requirement already satisfied: openai<2.0.0,>=1.40.0 in ./venv/lib/python3.10/site-packages (from langchain-openai) (1.41.0)\n",
      "Requirement already satisfied: pydantic>=1.10.8 in ./venv/lib/python3.10/site-packages (from qdrant-client) (2.8.2)\n",
      "Requirement already satisfied: httpx[http2]>=0.20.0 in ./venv/lib/python3.10/site-packages (from qdrant-client) (0.27.0)\n",
      "Requirement already satisfied: grpcio>=1.41.0 in ./venv/lib/python3.10/site-packages (from qdrant-client) (1.65.5)\n",
      "Requirement already satisfied: portalocker<3.0.0,>=2.7.0 in ./venv/lib/python3.10/site-packages (from qdrant-client) (2.10.1)\n",
      "Requirement already satisfied: urllib3<3,>=1.26.14 in ./venv/lib/python3.10/site-packages (from qdrant-client) (2.2.2)\n",
      "Requirement already satisfied: grpcio-tools>=1.41.0 in ./venv/lib/python3.10/site-packages (from qdrant-client) (1.65.5)\n",
      "Requirement already satisfied: tenacity!=8.4.0,<9.0.0,>=8.1.0 in ./venv/lib/python3.10/site-packages (from langchain) (8.5.0)\n",
      "Requirement already satisfied: aiohttp<4.0.0,>=3.8.3 in ./venv/lib/python3.10/site-packages (from langchain) (3.10.4)\n",
      "Requirement already satisfied: requests<3,>=2 in ./venv/lib/python3.10/site-packages (from langchain) (2.32.3)\n",
      "Requirement already satisfied: PyYAML>=5.3 in ./venv/lib/python3.10/site-packages (from langchain) (6.0.2)\n",
      "Requirement already satisfied: langsmith<0.2.0,>=0.1.17 in ./venv/lib/python3.10/site-packages (from langchain) (0.1.99)\n",
      "Requirement already satisfied: SQLAlchemy<3,>=1.4 in ./venv/lib/python3.10/site-packages (from langchain) (2.0.32)\n",
      "Requirement already satisfied: async-timeout<5.0.0,>=4.0.0 in ./venv/lib/python3.10/site-packages (from langchain) (4.0.3)\n",
      "Requirement already satisfied: langchain-text-splitters<0.3.0,>=0.2.0 in ./venv/lib/python3.10/site-packages (from langchain) (0.2.2)\n",
      "Requirement already satisfied: dataclasses-json<0.7,>=0.5.7 in ./venv/lib/python3.10/site-packages (from langchain-community) (0.6.7)\n",
      "Requirement already satisfied: frozenlist>=1.1.1 in ./venv/lib/python3.10/site-packages (from aiohttp<4.0.0,>=3.8.3->langchain) (1.4.1)\n",
      "Requirement already satisfied: multidict<7.0,>=4.5 in ./venv/lib/python3.10/site-packages (from aiohttp<4.0.0,>=3.8.3->langchain) (6.0.5)\n",
      "Requirement already satisfied: aiohappyeyeballs>=2.3.0 in ./venv/lib/python3.10/site-packages (from aiohttp<4.0.0,>=3.8.3->langchain) (2.3.7)\n",
      "Requirement already satisfied: attrs>=17.3.0 in ./venv/lib/python3.10/site-packages (from aiohttp<4.0.0,>=3.8.3->langchain) (24.2.0)\n",
      "Requirement already satisfied: yarl<2.0,>=1.0 in ./venv/lib/python3.10/site-packages (from aiohttp<4.0.0,>=3.8.3->langchain) (1.9.4)\n",
      "Requirement already satisfied: aiosignal>=1.1.2 in ./venv/lib/python3.10/site-packages (from aiohttp<4.0.0,>=3.8.3->langchain) (1.3.1)\n",
      "Requirement already satisfied: marshmallow<4.0.0,>=3.18.0 in ./venv/lib/python3.10/site-packages (from dataclasses-json<0.7,>=0.5.7->langchain-community) (3.21.3)\n",
      "Requirement already satisfied: typing-inspect<1,>=0.4.0 in ./venv/lib/python3.10/site-packages (from dataclasses-json<0.7,>=0.5.7->langchain-community) (0.9.0)\n",
      "Requirement already satisfied: setuptools in ./venv/lib/python3.10/site-packages (from grpcio-tools>=1.41.0->qdrant-client) (59.6.0)\n",
      "Requirement already satisfied: protobuf<6.0dev,>=5.26.1 in ./venv/lib/python3.10/site-packages (from grpcio-tools>=1.41.0->qdrant-client) (5.27.3)\n",
      "Requirement already satisfied: certifi in ./venv/lib/python3.10/site-packages (from httpx[http2]>=0.20.0->qdrant-client) (2024.7.4)\n",
      "Requirement already satisfied: sniffio in ./venv/lib/python3.10/site-packages (from httpx[http2]>=0.20.0->qdrant-client) (1.3.1)\n",
      "Requirement already satisfied: httpcore==1.* in ./venv/lib/python3.10/site-packages (from httpx[http2]>=0.20.0->qdrant-client) (1.0.5)\n",
      "Requirement already satisfied: anyio in ./venv/lib/python3.10/site-packages (from httpx[http2]>=0.20.0->qdrant-client) (4.4.0)\n",
      "Requirement already satisfied: idna in ./venv/lib/python3.10/site-packages (from httpx[http2]>=0.20.0->qdrant-client) (3.7)\n",
      "Requirement already satisfied: h2<5,>=3 in ./venv/lib/python3.10/site-packages (from httpx[http2]>=0.20.0->qdrant-client) (4.1.0)\n",
      "Requirement already satisfied: h11<0.15,>=0.13 in ./venv/lib/python3.10/site-packages (from httpcore==1.*->httpx[http2]>=0.20.0->qdrant-client) (0.14.0)\n",
      "Requirement already satisfied: typing-extensions>=4.7 in ./venv/lib/python3.10/site-packages (from langchain-core<0.3.0,>=0.2.33->langchain-openai) (4.12.2)\n",
      "Requirement already satisfied: packaging<25,>=23.2 in ./venv/lib/python3.10/site-packages (from langchain-core<0.3.0,>=0.2.33->langchain-openai) (24.1)\n",
      "Requirement already satisfied: jsonpatch<2.0,>=1.33 in ./venv/lib/python3.10/site-packages (from langchain-core<0.3.0,>=0.2.33->langchain-openai) (1.33)\n",
      "Requirement already satisfied: orjson<4.0.0,>=3.9.14 in ./venv/lib/python3.10/site-packages (from langsmith<0.2.0,>=0.1.17->langchain) (3.10.7)\n",
      "Requirement already satisfied: distro<2,>=1.7.0 in ./venv/lib/python3.10/site-packages (from openai<2.0.0,>=1.40.0->langchain-openai) (1.9.0)\n",
      "Requirement already satisfied: tqdm>4 in ./venv/lib/python3.10/site-packages (from openai<2.0.0,>=1.40.0->langchain-openai) (4.66.5)\n",
      "Requirement already satisfied: jiter<1,>=0.4.0 in ./venv/lib/python3.10/site-packages (from openai<2.0.0,>=1.40.0->langchain-openai) (0.5.0)\n",
      "Requirement already satisfied: annotated-types>=0.4.0 in ./venv/lib/python3.10/site-packages (from pydantic>=1.10.8->qdrant-client) (0.7.0)\n",
      "Requirement already satisfied: pydantic-core==2.20.1 in ./venv/lib/python3.10/site-packages (from pydantic>=1.10.8->qdrant-client) (2.20.1)\n",
      "Requirement already satisfied: six>=1.5 in ./venv/lib/python3.10/site-packages (from python-dateutil>=2.8.2->pandas) (1.16.0)\n",
      "Requirement already satisfied: charset-normalizer<4,>=2 in ./venv/lib/python3.10/site-packages (from requests<3,>=2->langchain) (3.3.2)\n",
      "Requirement already satisfied: greenlet!=0.4.17 in ./venv/lib/python3.10/site-packages (from SQLAlchemy<3,>=1.4->langchain) (3.0.3)\n",
      "Requirement already satisfied: regex>=2022.1.18 in ./venv/lib/python3.10/site-packages (from tiktoken<1,>=0.7->langchain-openai) (2024.7.24)\n",
      "Requirement already satisfied: exceptiongroup>=1.0.2 in ./venv/lib/python3.10/site-packages (from anyio->httpx[http2]>=0.20.0->qdrant-client) (1.2.2)\n",
      "Requirement already satisfied: hyperframe<7,>=6.0 in ./venv/lib/python3.10/site-packages (from h2<5,>=3->httpx[http2]>=0.20.0->qdrant-client) (6.0.1)\n",
      "Requirement already satisfied: hpack<5,>=4.0 in ./venv/lib/python3.10/site-packages (from h2<5,>=3->httpx[http2]>=0.20.0->qdrant-client) (4.0.0)\n",
      "Requirement already satisfied: jsonpointer>=1.9 in ./venv/lib/python3.10/site-packages (from jsonpatch<2.0,>=1.33->langchain-core<0.3.0,>=0.2.33->langchain-openai) (3.0.0)\n",
      "Requirement already satisfied: mypy-extensions>=0.3.0 in ./venv/lib/python3.10/site-packages (from typing-inspect<1,>=0.4.0->dataclasses-json<0.7,>=0.5.7->langchain-community) (1.0.0)\n"
     ]
    }
   ],
   "source": [
    "!pip install pandas langchain-openai qdrant-client langchain langchain-community langchain-qdrant"
   ]
  },
  {
   "cell_type": "markdown",
   "metadata": {},
   "source": [
    "## Load Envs"
   ]
  },
  {
   "cell_type": "code",
   "execution_count": 3,
   "metadata": {},
   "outputs": [],
   "source": [
    "from decouple import config\n",
    "import os"
   ]
  },
  {
   "cell_type": "markdown",
   "metadata": {},
   "source": [
    "## Read CSV File"
   ]
  },
  {
   "cell_type": "code",
   "execution_count": 9,
   "metadata": {},
   "outputs": [],
   "source": [
    "import pandas as pd\n",
    "import ast"
   ]
  },
  {
   "cell_type": "code",
   "execution_count": 10,
   "metadata": {},
   "outputs": [
    {
     "data": {
      "text/html": [
       "<div>\n",
       "<style scoped>\n",
       "    .dataframe tbody tr th:only-of-type {\n",
       "        vertical-align: middle;\n",
       "    }\n",
       "\n",
       "    .dataframe tbody tr th {\n",
       "        vertical-align: top;\n",
       "    }\n",
       "\n",
       "    .dataframe thead th {\n",
       "        text-align: right;\n",
       "    }\n",
       "</style>\n",
       "<table border=\"1\" class=\"dataframe\">\n",
       "  <thead>\n",
       "    <tr style=\"text-align: right;\">\n",
       "      <th></th>\n",
       "      <th>ID</th>\n",
       "      <th>product_purchased</th>\n",
       "      <th>ticket_description</th>\n",
       "    </tr>\n",
       "  </thead>\n",
       "  <tbody>\n",
       "    <tr>\n",
       "      <th>0</th>\n",
       "      <td>0</td>\n",
       "      <td>GoPro Hero</td>\n",
       "      <td>I'm having an issue with the GoPro Hero. Pleas...</td>\n",
       "    </tr>\n",
       "    <tr>\n",
       "      <th>1</th>\n",
       "      <td>1</td>\n",
       "      <td>LG Smart TV</td>\n",
       "      <td>I'm having an issue with the LG Smart TV. Plea...</td>\n",
       "    </tr>\n",
       "    <tr>\n",
       "      <th>2</th>\n",
       "      <td>2</td>\n",
       "      <td>Dell XPS</td>\n",
       "      <td>I'm facing a problem with my Dell XPS. The Del...</td>\n",
       "    </tr>\n",
       "    <tr>\n",
       "      <th>3</th>\n",
       "      <td>3</td>\n",
       "      <td>Microsoft Office</td>\n",
       "      <td>I'm having an issue with the Microsoft Office....</td>\n",
       "    </tr>\n",
       "    <tr>\n",
       "      <th>4</th>\n",
       "      <td>4</td>\n",
       "      <td>Autodesk AutoCAD</td>\n",
       "      <td>I'm having an issue with the Autodesk AutoCAD....</td>\n",
       "    </tr>\n",
       "  </tbody>\n",
       "</table>\n",
       "</div>"
      ],
      "text/plain": [
       "   ID product_purchased                                 ticket_description\n",
       "0   0        GoPro Hero  I'm having an issue with the GoPro Hero. Pleas...\n",
       "1   1       LG Smart TV  I'm having an issue with the LG Smart TV. Plea...\n",
       "2   2          Dell XPS  I'm facing a problem with my Dell XPS. The Del...\n",
       "3   3  Microsoft Office  I'm having an issue with the Microsoft Office....\n",
       "4   4  Autodesk AutoCAD  I'm having an issue with the Autodesk AutoCAD...."
      ]
     },
     "execution_count": 10,
     "metadata": {},
     "output_type": "execute_result"
    }
   ],
   "source": [
    "df = pd.read_csv(\"./data/product_ticket_description.csv\")\n",
    "df.head()"
   ]
  },
  {
   "cell_type": "code",
   "execution_count": 11,
   "metadata": {},
   "outputs": [],
   "source": [
    "from langchain_core.documents import Document"
   ]
  },
  {
   "cell_type": "code",
   "execution_count": 12,
   "metadata": {},
   "outputs": [],
   "source": [
    "documents = []\n",
    "\n",
    "for index, row in df[:250].iterrows():\n",
    "    document = Document(\n",
    "        page_content=row[\"ticket_description\"],\n",
    "        metadata={\"product_name\": row[\"product_purchased\"]}\n",
    "    )\n",
    "    documents.append(document)"
   ]
  },
  {
   "cell_type": "code",
   "execution_count": 13,
   "metadata": {},
   "outputs": [
    {
     "name": "stdout",
     "output_type": "stream",
     "text": [
      "I'm having an issue with the GoPro Hero. Please assist.Your billing zip code is: 71701.We appreciate that you have requested a website address.Please double check your email address. I've tried troubleshooting steps mentioned in the user manual, but the issue persists.\n"
     ]
    }
   ],
   "source": [
    "print(documents[0].page_content)"
   ]
  },
  {
   "cell_type": "code",
   "execution_count": 14,
   "metadata": {},
   "outputs": [
    {
     "data": {
      "text/plain": [
       "250"
      ]
     },
     "execution_count": 14,
     "metadata": {},
     "output_type": "execute_result"
    }
   ],
   "source": [
    "len(documents)"
   ]
  },
  {
   "cell_type": "markdown",
   "metadata": {},
   "source": [
    "## Document UUID"
   ]
  },
  {
   "cell_type": "code",
   "execution_count": 15,
   "metadata": {},
   "outputs": [],
   "source": [
    "from uuid import uuid4"
   ]
  },
  {
   "cell_type": "code",
   "execution_count": 16,
   "metadata": {},
   "outputs": [],
   "source": [
    "uuids = [str(uuid4()) for _ in range(len(documents))]"
   ]
  },
  {
   "cell_type": "markdown",
   "metadata": {},
   "source": [
    "## Connect To Qdrant Cloud"
   ]
  },
  {
   "cell_type": "code",
   "execution_count": 17,
   "metadata": {},
   "outputs": [],
   "source": [
    "from qdrant_client import QdrantClient\n"
   ]
  },
  {
   "cell_type": "code",
   "execution_count": 18,
   "metadata": {},
   "outputs": [],
   "source": [
    "qdrant_client = QdrantClient(\n",
    "    api_key=config(\"QDRANT_API_KEY\"),\n",
    "    url=config(\"QDRANT_URL\")\n",
    ")"
   ]
  },
  {
   "cell_type": "code",
   "execution_count": 21,
   "metadata": {},
   "outputs": [
    {
     "data": {
      "text/plain": [
       "CollectionsResponse(collections=[])"
      ]
     },
     "execution_count": 21,
     "metadata": {},
     "output_type": "execute_result"
    }
   ],
   "source": [
    "# List availabe collections\n",
    "qdrant_client.get_collections()"
   ]
  },
  {
   "cell_type": "markdown",
   "metadata": {},
   "source": [
    "## Create Collection"
   ]
  },
  {
   "cell_type": "code",
   "execution_count": 25,
   "metadata": {},
   "outputs": [],
   "source": [
    "from qdrant_client.http.models import Distance, VectorParams"
   ]
  },
  {
   "cell_type": "code",
   "execution_count": 26,
   "metadata": {},
   "outputs": [],
   "source": [
    "COLLECTION_NAME =\"customer_support_tickets\""
   ]
  },
  {
   "cell_type": "markdown",
   "metadata": {},
   "source": [
    "[OpenAI Embedding Models Dimensions](https://qdrant.tech/documentation/embeddings/openai/)"
   ]
  },
  {
   "cell_type": "code",
   "execution_count": 27,
   "metadata": {},
   "outputs": [
    {
     "data": {
      "text/plain": [
       "True"
      ]
     },
     "execution_count": 27,
     "metadata": {},
     "output_type": "execute_result"
    }
   ],
   "source": [
    "qdrant_client.create_collection(\n",
    "    collection_name=COLLECTION_NAME,\n",
    "    vectors_config=VectorParams(\n",
    "        size=os.getenv(\"QDRANT_VECTOR_DIMENSION\", 1536), \n",
    "        distance=Distance.COSINE),\n",
    ")"
   ]
  },
  {
   "cell_type": "markdown",
   "metadata": {},
   "source": [
    "## Connect To Vector Store"
   ]
  },
  {
   "cell_type": "code",
   "execution_count": 32,
   "metadata": {},
   "outputs": [],
   "source": [
    "from langchain_qdrant import QdrantVectorStore\n",
    "from langchain_openai import OpenAIEmbeddings\n",
    "\n",
    "embedding_model = OpenAIEmbeddings(\n",
    "    model=os.getenv(\"EMBEDDING_MODEL\", \n",
    "                    default=\"text-embedding-3-small\"\n",
    "                )\n",
    "    )"
   ]
  },
  {
   "cell_type": "code",
   "execution_count": 41,
   "metadata": {},
   "outputs": [],
   "source": [
    "from langchain_qdrant import RetrievalMode"
   ]
  },
  {
   "cell_type": "markdown",
   "metadata": {},
   "source": [
    "QdrantVectorStore supports 3 modes for similarity searches. They can be configured using the retrieval_mode parameter when setting up the class.\n",
    "\n",
    "- Dense Vector Search(Default)\n",
    "- Sparse Vector Search\n",
    "- Hybrid Search"
   ]
  },
  {
   "cell_type": "code",
   "execution_count": 33,
   "metadata": {},
   "outputs": [],
   "source": [
    "vector_store = QdrantVectorStore(\n",
    "    client=qdrant_client,\n",
    "    collection_name=COLLECTION_NAME,\n",
    "    embedding=embedding_model,\n",
    "    # retrieval_mode=RetrievalMode.DENSE\n",
    ")"
   ]
  },
  {
   "cell_type": "markdown",
   "metadata": {},
   "source": [
    "## Insert Records / Documents"
   ]
  },
  {
   "cell_type": "code",
   "execution_count": 37,
   "metadata": {},
   "outputs": [
    {
     "data": {
      "text/plain": [
       "['d397286a-bce1-4816-94f0-020038d9b124',\n",
       " '99972c0b-b4ff-43a3-ae3e-62e605438c16',\n",
       " '9791387d-3018-4732-bbba-d0478a3d3d7c',\n",
       " '54b6594d-0744-419b-bb74-d2f7e95ad805',\n",
       " 'b05996b2-a1e2-480d-80d7-71fed26d9c88',\n",
       " 'a8c5a0b2-a07b-4c95-8cf2-a4cdf2153134',\n",
       " '766ec312-bec8-4096-aa3f-9b421f8c2a37',\n",
       " 'bc27c179-3ee2-4db7-afb8-851e64fe18a8',\n",
       " '78a7ea97-faa2-49e0-bab8-a84864010b83',\n",
       " 'b2f5677e-b2b2-435e-b7d8-c6d4e0247939',\n",
       " '56c6b27a-9993-4ecb-b3b0-550c27fdda85',\n",
       " 'b7fcc082-23c9-4d12-85fd-6de90c6efb7e',\n",
       " '593b34fe-caa2-4d16-8cce-2ea406fd53f1',\n",
       " '3ea5b87f-7c76-4738-b5bb-aa86e2ae1916',\n",
       " '62610df8-3144-4927-b79b-d3ee03355b83',\n",
       " 'e0fb2144-18c3-450d-8db7-c90c1f493ce3',\n",
       " '997d3210-56ed-4891-951b-d4f9173a1115',\n",
       " 'b0e62418-f03d-4bf8-9ebf-9bc561142af3',\n",
       " 'bcaf4192-f4f4-4290-a237-0926a0601244',\n",
       " 'af07b782-bb57-4c88-84bf-e5c59bba0dca',\n",
       " 'e40cb8b1-08ef-4619-ac38-38b58af2d5e7',\n",
       " '67a7cad8-9af0-4db7-aa70-6c43ca8e0880',\n",
       " 'ad270d20-2c58-46c6-ba71-0f0725193b19',\n",
       " 'b63e0a0c-fbd4-4d92-94d5-8314c42cf3aa',\n",
       " '30bac209-4fe7-4697-af8c-00648748331a',\n",
       " 'fbddc4ff-b926-454a-a6f4-6ac2c94b1cc2',\n",
       " '7f84f9cc-eda6-4b25-abf6-c1b78fe86691',\n",
       " '3f238c21-1431-4bed-a1b7-b96ef4ae9995',\n",
       " '9f5c511d-d4b5-4be8-82b4-31f925883fde',\n",
       " '9a3969da-e4f7-4174-8cc0-a983efe4301b',\n",
       " '9d0521e4-a497-416a-90da-2d7a9eb5e64c',\n",
       " '6c912452-126f-450c-bbea-37d8373bf02f',\n",
       " 'f74c4611-ee50-49fc-bd19-80f147601f5a',\n",
       " 'bf8eff86-6d18-4395-b1f9-9dfd2cae9bc3',\n",
       " '519c8e01-0185-4732-9ab6-26710a418be6',\n",
       " 'ace00336-fa80-450f-a75f-3d0e55999c06',\n",
       " '7c879003-0fa5-42e4-8d63-aa5940d50fa5',\n",
       " 'ab09eeb3-461c-4e41-a776-a91dd39f7775',\n",
       " 'b0b833eb-0771-475a-a624-6a4eb0caee51',\n",
       " '40a68328-100d-42e9-a8ab-37aceb1167ba',\n",
       " 'a2ae30ea-65b4-4069-ae31-901c496a7b85',\n",
       " 'bc67f3f5-3dd4-4061-967c-38c607bfa35e',\n",
       " 'a8e50e7e-a1fc-4a74-9d03-b2d74fc88126',\n",
       " 'a32e0a69-2498-4b14-a775-f0fdbffdb6c7',\n",
       " 'dda4b85e-f652-464b-9eb8-f65fb31536a4',\n",
       " 'b238165f-6f86-4fa3-856b-84f0e6060519',\n",
       " '579595da-4cbc-42cb-995f-0e2fb8b513a5',\n",
       " '6dc107f3-63b1-4b3d-9173-c74da8e1b711',\n",
       " '97cec591-1fd4-48bd-9b1a-fc2e346fde12',\n",
       " '906871da-9ea1-434b-8999-a1de1a643f8a',\n",
       " '7cbf8d1e-adf6-4d4e-9ba5-7160ca88336d',\n",
       " '093002a9-aa41-4cca-83ce-93095d9e6f9f',\n",
       " '59a3c4e2-2b57-4467-b71d-40d50d3dc174',\n",
       " '9c469357-6d6d-4183-b1f3-4d0825a301b9',\n",
       " '6f54d981-888f-4a24-a723-0d81c1f6f43b',\n",
       " 'b5f73a39-fe2e-42cb-8c05-51444f2d3246',\n",
       " 'aabced35-7a82-4a9b-ac27-4c0a9c6532d9',\n",
       " '44562569-f478-4300-8c4e-561f1bb04341',\n",
       " '3e226653-cd42-4a74-91cb-262d140e27bd',\n",
       " '00fceec7-2c35-406b-af8b-5ba1729358fb',\n",
       " '9a5163e2-c08a-4769-aabb-8b20044f65f5',\n",
       " '3e56b7e5-c083-456e-aa12-e877d456149f',\n",
       " '120d9f2d-96e4-4cb7-9d8d-909d9290d2e8',\n",
       " '7fc1da04-1602-4f72-8cfd-448558059149',\n",
       " 'f8348a18-ebd1-491c-a7a3-2dd1abef69a6',\n",
       " 'ad3a4c24-2b13-4942-be63-30b6bfd6bf54',\n",
       " '3fbf3878-2eee-4528-8cfb-ac6d419ed6bc',\n",
       " '6ad061c3-9b71-4c86-b500-eea596cf0a72',\n",
       " '32b32ac8-63d3-4a5f-b721-7e943730e848',\n",
       " 'eb31808d-be6a-4136-87ab-6dd56527b648',\n",
       " 'fd42445c-f1e3-40b7-a49b-8c89f36aad59',\n",
       " '7e7f46a4-a570-487e-88db-f41762bfc945',\n",
       " 'a1c8d8d0-ea82-4bf9-b6ef-d886b4b45b8c',\n",
       " 'ee3fc749-80c1-442d-ad2b-5b8af1ec8f84',\n",
       " '83cffbc7-25f4-4aff-83a7-4a237462d3d8',\n",
       " '4480ce21-f9da-4ea2-8a1b-7a952290d6b6',\n",
       " '780444b4-9b4e-4622-81cb-847e40e92487',\n",
       " '1195f9ef-1b05-40fc-b616-2671c459e074',\n",
       " '7d392f3e-cff8-411a-8eb6-ac43d3fd8400',\n",
       " '9bb78fb7-f6c1-43ce-b167-43b1ee0b4ba4',\n",
       " 'b782ce70-f4b0-44a0-b3e5-96902cdf4340',\n",
       " 'fcd72dbb-9453-4579-be50-f81f9e80c5d6',\n",
       " '5d898918-bf46-4b89-9ecf-ac3773e7842d',\n",
       " '6b30f432-0d87-4483-a3aa-c180ca5fbd80',\n",
       " '1afd5955-cff2-4e95-bfc7-d001185c26e9',\n",
       " '34334cf3-3a0e-482d-bd5f-79b53119fb49',\n",
       " '3a0f1533-ba77-42b6-8c29-342bcdcb99b2',\n",
       " 'fd4fc195-dca7-4fa3-82f3-45d1c35b1bf4',\n",
       " '5c9d0867-9145-464f-ae51-f1c64708778f',\n",
       " '51a17072-7f47-4587-b63f-e36d92f2f399',\n",
       " '28ce7de0-e409-4cbe-a915-21552d961a15',\n",
       " '16e6b8bf-6c29-4de4-ba80-156de6571d16',\n",
       " '6de0b531-d362-4f8a-9098-470f1e53e750',\n",
       " 'cf2ca6bd-4c57-4b8a-8a29-9b57a704c68e',\n",
       " 'a5a831a7-3147-420f-99f6-80460e387d9a',\n",
       " '5e578c07-8aa8-41eb-a637-a2bbc6c70a2e',\n",
       " 'c11cacd1-6236-4029-b2ea-a252bd90b558',\n",
       " '18ab205d-e8c4-4283-a9b3-8612a4d125d9',\n",
       " '86caf836-7578-4b9f-88ce-cecfc409e26a',\n",
       " 'fd7d32c6-f149-456a-8528-1d129a5eb952',\n",
       " 'd3308f2c-a9bb-4844-b94f-f17ec5eb46be',\n",
       " '0fbd0201-0788-4195-96ce-3282e3d7334e',\n",
       " '1e0776de-fa99-4e40-9034-5bf592cc42e7',\n",
       " '1315f0d6-84ea-4442-a1dc-13948f4a8e03',\n",
       " '2dd6bf10-45f7-4499-b1dd-c7ff73c72df1',\n",
       " '5564e349-10b9-4c8d-81f8-b09a3310aa6c',\n",
       " '33272290-578b-40db-b15f-cd062c9b47bc',\n",
       " '249574be-b4d0-4d74-b060-bbe4fdd4a224',\n",
       " 'b5d6355a-2463-4785-a265-b6ba78ee7773',\n",
       " '976733e8-44fa-4a59-9b9b-96ff15decc06',\n",
       " '73389661-0e54-4951-bfa7-a8e1a8508705',\n",
       " 'fac7e0e3-d129-4b77-a8ff-a312f63e4ff8',\n",
       " '269b11d2-3c71-4361-9b39-7eab05541ec7',\n",
       " '505702b7-7cd8-46fc-8449-7bd503cb0a1c',\n",
       " '7aaad583-8c97-4c0a-b074-cbd1d2501ea0',\n",
       " '1921f446-8495-4399-9425-7550c043b379',\n",
       " 'e7df3a67-5d06-4451-a4b5-84aae9901b89',\n",
       " 'f1e33334-848a-4c84-b133-a4cb31b5bcdd',\n",
       " '822d783d-f6a3-4350-91d8-a42acc3eb604',\n",
       " 'b339e45b-d5e5-44ca-9fe8-b75f2b258e5e',\n",
       " 'e1f83b7a-88b7-4f03-b2ca-8442cae27af1',\n",
       " '8f45e636-ff5c-43a0-b41b-b65d366f38d2',\n",
       " 'b9a04053-f901-4cbe-a9be-c22996708c80',\n",
       " '6d62ce4f-9b3d-4162-861f-e93d4f5807c2',\n",
       " '1f1c9f77-ba99-4b84-8324-5e0c7ca803f8',\n",
       " '90c2dabd-6c88-4d90-b66e-bcd20a1542a1',\n",
       " '058ea4a5-77c5-4c84-ba75-8ac59784f9c7',\n",
       " '4af5f500-13af-4963-84e4-2ba43097a0af',\n",
       " 'fc151bbf-f9e7-4c16-bfa0-188ae47526ac',\n",
       " '51ef0166-7c7b-4434-84e3-783bb5b06e6a',\n",
       " 'be2b275b-77ce-47ed-bc0c-e39d7c168e03',\n",
       " '9476e955-02cd-47b9-b5e1-b26b531ed9de',\n",
       " '46a10114-b0ed-4be9-b936-eee0966df5a0',\n",
       " '303e0b07-7083-4491-a7c7-05efb0d4236b',\n",
       " 'd7a00784-d2d1-4414-a4ff-51ffc65102a6',\n",
       " 'b37a1a8c-3849-4000-afb0-c477a82b4dd6',\n",
       " 'fe115f6b-13a5-4e43-83d5-b50cd76990a4',\n",
       " '4399f29a-75d8-4c9a-95ab-ed9f477d7385',\n",
       " 'df4ac462-2a10-442d-824f-a48cb84bbb68',\n",
       " 'c4f61717-6ae6-4bb1-84e2-4263684f8cbc',\n",
       " 'af4305df-c930-40c5-baa3-27f5eae82946',\n",
       " 'ee2d5288-73d0-4b4c-9235-5873d4cd09c4',\n",
       " '7b57728a-8edf-49b3-81b3-ac0af956199e',\n",
       " '29c0517d-e26c-4e37-9c4c-dd2bfcafc8ac',\n",
       " '9bdacb25-c569-4354-b0d6-5c52c9d6436a',\n",
       " '36e6a57c-487a-452e-8a26-ac8d3307708c',\n",
       " 'b0640b03-4438-459a-9447-b2f85052f13e',\n",
       " '03ea9109-7ed6-4aa9-9e91-3aec84b5d120',\n",
       " 'bd4ac478-7f2f-4162-9e9a-f1a09c84c62a',\n",
       " '1665502c-16a0-4678-8d35-186906f26c62',\n",
       " '04c19bfa-dba4-434f-88e0-70d4a7d2ba34',\n",
       " '45805a09-5be8-456c-bd1e-99a2445e5182',\n",
       " 'ed425627-e1a4-4539-ba7a-94fdd6f1cd86',\n",
       " 'd08173e7-88f6-4a42-a1f7-a63be7be4e7b',\n",
       " '1f49ba96-762f-48ea-ac3c-7a577dca4b52',\n",
       " '6b5a0cd4-9a4f-4bb6-90e2-36b7197283dd',\n",
       " '8c87f625-284b-4ffc-a4d3-99960cd4ee89',\n",
       " '39e88df6-8e6e-4f95-ba84-5423fe19361e',\n",
       " '6d8a9ce2-b4e4-42a7-aa2f-dd71fc848a8b',\n",
       " '32744abd-4311-4207-941f-e8efa1159219',\n",
       " 'e52c09a2-68a7-422b-b2df-5ea2a718d7c2',\n",
       " 'c7f40741-d221-411f-ba39-6b13aea96e0a',\n",
       " '0cf55e94-cea2-41ec-bbb8-9ae37f8c9302',\n",
       " 'cb00e9d0-06ae-4f13-be4d-aadb6eac3d8a',\n",
       " 'b521a304-bfe0-44fd-9c5a-aafcfee8f99d',\n",
       " '9c627073-db02-4729-90ac-d0d2467e259d',\n",
       " '1dc29791-961a-4b1b-952b-e7619689745c',\n",
       " '4ac109cf-6aa3-44a8-8f35-2db3e1af6cb9',\n",
       " 'd8db25fd-bebd-4c9e-863f-e2c2dc6fd9bd',\n",
       " 'a7a78a85-0e12-44b1-a539-badd8b91785e',\n",
       " '2485495e-dfdc-4bb9-b00b-c871a83cd381',\n",
       " '0b8e6c2a-721a-4481-9c58-1de77d51d46a',\n",
       " 'ce598488-5c7e-40ab-86f0-bdee78a91a19',\n",
       " '2f8fbaac-99e9-4830-84d7-ba2b45c3a1a2',\n",
       " 'a5c2c8d4-f55b-4d3b-939f-9172b4f97670',\n",
       " '0c9a385a-d474-4562-99ac-86a989b16d84',\n",
       " '249d752f-0b1d-40ec-996a-7100ed307c8f',\n",
       " '59c07097-68b3-42cb-8b7e-2fb80ab1e99b',\n",
       " '3d9f3853-8533-4669-8a3e-9c61bba5efc6',\n",
       " 'e01f5c18-56c1-491a-a59c-5b6eaa318199',\n",
       " 'd4ad767d-b914-4552-99aa-0c26741dcc53',\n",
       " '127aa041-e988-4fa3-a554-aefe1b5409aa',\n",
       " '2420c099-b9e9-42ea-ad40-fb70a3da92c6',\n",
       " '69d4e9b7-139a-40f6-8622-144c0f5ba666',\n",
       " 'ce0f6d9a-22bc-4b17-9658-d810ebc7304b',\n",
       " '33a4a723-8bdb-47af-8889-fdb2e092a537',\n",
       " '7e1a49c6-818f-4d09-918a-e0a4190f8cdc',\n",
       " '83087cc7-be00-446e-8a32-230a581e7c5a',\n",
       " '6b61cc07-4dfb-4d56-baa1-856d2addc2d2',\n",
       " '9af27774-6716-4d32-9d1c-31fdba9ea20c',\n",
       " '5a67e15f-b2da-4c03-82ab-2d62b5deca05',\n",
       " '6f9b0591-29b4-462e-bca2-ca75375a97ae',\n",
       " '1a0d58a9-2eee-4eaf-b1c1-5c837b767523',\n",
       " '814138a3-31ee-4ade-85f0-51181df327bf',\n",
       " '3180a791-0834-403c-be6c-55e5d6ac5e5c',\n",
       " '46e00063-f9c8-4279-8cff-5de861ab2328',\n",
       " 'd10f3a2e-d96f-4b48-ae93-b0b8e9a2cea9',\n",
       " '954853b3-5c2d-45f4-bc3c-9402ff5438db',\n",
       " 'b00070a1-2d1a-4a5b-a379-b9c209ee6d97',\n",
       " 'ffa59349-1bf3-4239-8646-4787ed3a32f8',\n",
       " '24dda252-d90b-447b-b0a7-7934008f00a9',\n",
       " '34f21785-115c-4359-a37d-42ec378fec53',\n",
       " '0ef49032-bd3b-4c86-9640-ac66069ea6f1',\n",
       " 'c676218e-5f41-4309-8e0d-8bb7d1f12037',\n",
       " 'b421fb7a-b1d1-412d-9967-079b21dcb30e',\n",
       " 'ca9cfe17-ae06-479b-8824-a5819268ee92',\n",
       " '05b86641-a6f2-45b4-ab32-902d683592e0',\n",
       " '7e179ee4-aac5-46f7-8974-bfc27a206c77',\n",
       " 'd6431a41-14f1-458d-9e4e-272761585754',\n",
       " '8e821f46-cea8-4ef3-8062-fff6c2afefe2',\n",
       " 'ec959bea-2fc1-4e1d-acc6-0262d39cccc7',\n",
       " '9a60641c-d39a-4679-a0f9-70c153d08e84',\n",
       " '36727865-4ec2-4c02-a14e-5cec758e8782',\n",
       " 'd2431abe-f494-41e7-8c8c-379574f7f012',\n",
       " '13ddfc9b-e186-4cb8-a47e-93aef985edb2',\n",
       " '52863da3-9d3d-4f25-a14c-26d5c6f92fdf',\n",
       " 'c92279d9-20e6-40c8-bcc1-5c3594e3aa66',\n",
       " 'e9eed70c-c60e-48ad-a266-dead2c57be71',\n",
       " '5f341c6d-0520-4af8-b8d4-de21db5b9027',\n",
       " '75de3cec-ed05-42d7-b238-ea2428d1c648',\n",
       " 'e775d449-743c-470f-95dc-eaf901db07b6',\n",
       " '95f4b45a-abd0-47c9-9b90-23b8c7f4706c',\n",
       " 'f6d8cc2d-f86e-4065-bea0-bd22b96f5814',\n",
       " 'c8197a7e-1782-4454-b40b-5e63b3c8467d',\n",
       " 'd36c329f-761a-4ce9-afc6-114cc7662f2e',\n",
       " '3776c348-c2d7-49da-8a8f-6c0264dd2e92',\n",
       " '95e5bd9d-cee4-44dd-adeb-7c642448ad4b',\n",
       " 'b9dab5ac-9af9-469d-8d83-eafe229d18fd',\n",
       " 'a686a0cc-ca79-4389-8b99-a517aec4b7f7',\n",
       " 'ed02ba25-9068-4568-921c-95aec7384076',\n",
       " 'c1071686-1c63-40c9-ab1d-be297bcaefe0',\n",
       " '798b6757-3c9d-4357-b38e-00afbe4aa046',\n",
       " 'e1ce31e7-2f5b-42e3-b3c7-09665f3b4b75',\n",
       " 'cfc9dd99-0692-47ce-be18-b0e8efd592d8',\n",
       " '006ecf52-301f-4d9b-9717-89691b6f398f',\n",
       " 'b98f89de-7bcc-4508-82b3-7dbae697cb27',\n",
       " 'f5d66be5-d01f-4209-989c-41fbbbe81e45',\n",
       " '00560e3e-71b1-4a7e-9809-9bcda6b1228b',\n",
       " 'b20dc84a-38ec-410e-a121-bf3305e33f63',\n",
       " '9249fb57-c944-4f9c-95dc-a5981b8db552',\n",
       " 'd59ae32d-3625-44b9-b00a-a31bff76ffd0',\n",
       " '60a8baa5-10c4-4e04-a145-67caba4298a0',\n",
       " '73358877-bd2a-4211-a597-a26a595b50b8',\n",
       " '546b9b65-1bef-49df-b6e2-8ae2e202aaf7',\n",
       " '1f7f54c8-596d-4de9-bb4c-c6a0b1230177',\n",
       " '12a6a4fb-e1d2-4710-b4ff-ffb5da4a490a',\n",
       " 'ac33a33b-7ac8-4487-a4c2-81c8e4536ce1',\n",
       " 'abdfe5d9-0ce6-43e8-9a76-259fc3c7dbc3',\n",
       " '36167480-48be-4d55-87a3-0ac791866660',\n",
       " 'c14b08d5-f38b-442e-89e5-b48ab836d652']"
      ]
     },
     "execution_count": 37,
     "metadata": {},
     "output_type": "execute_result"
    }
   ],
   "source": [
    "vector_store.add_documents(documents=documents, ids=uuids)"
   ]
  },
  {
   "cell_type": "markdown",
   "metadata": {},
   "source": [
    "## Query Vector DB"
   ]
  },
  {
   "cell_type": "code",
   "execution_count": 42,
   "metadata": {},
   "outputs": [],
   "source": [
    "query = \"What are the common complaints regarding the GoPro Hero?\""
   ]
  },
  {
   "cell_type": "code",
   "execution_count": 44,
   "metadata": {},
   "outputs": [],
   "source": [
    "results = vector_store.similarity_search(\n",
    "    query, k=2\n",
    ")"
   ]
  },
  {
   "cell_type": "markdown",
   "metadata": {},
   "source": [
    "By default, your document is going to be stored in the following payload structure, example:\n",
    "\n",
    "```json\n",
    "{\n",
    "    \"page_content\": \"I'm having an issue with the GoPro Hero. Please assist. I'm experiencing this issue on multiple devices of the same model, so it seems to be a widespread problem.\",\n",
    "    \"metadata\": {\n",
    "        \"product_name\": \"GoPro Hero\", \n",
    "        \"_id\": \"d36c329f-761a-4ce9-afc6-114cc7662f2e\", \n",
    "        \"_collection_name\": \"customer_support_tickets\"\n",
    "    }\n",
    "}\n",
    "```"
   ]
  },
  {
   "cell_type": "code",
   "execution_count": 45,
   "metadata": {},
   "outputs": [
    {
     "name": "stdout",
     "output_type": "stream",
     "text": [
      "* I'm having an issue with the GoPro Hero. Please assist. I'm experiencing this issue on multiple devices of the same model, so it seems to be a widespread problem. [{'product_name': 'GoPro Hero', '_id': 'd36c329f-761a-4ce9-afc6-114cc7662f2e', '_collection_name': 'customer_support_tickets'}]\n",
      "* I'm having an issue with the GoPro Hero. Please assist. We have nothing to do with it. Please try to have an informed discussion about this issue with the seller. Thank you for your time!3/28 The issue I'm facing is intermittent. Sometimes it works fine, but other times it acts up unexpectedly. [{'product_name': 'GoPro Hero', '_id': 'ac33a33b-7ac8-4487-a4c2-81c8e4536ce1', '_collection_name': 'customer_support_tickets'}]\n"
     ]
    }
   ],
   "source": [
    "for res in results:\n",
    "    print(f\"* {res.page_content} [{res.metadata}]\")"
   ]
  },
  {
   "cell_type": "markdown",
   "metadata": {},
   "source": [
    "### Similarity Search With Score"
   ]
  },
  {
   "cell_type": "code",
   "execution_count": 48,
   "metadata": {},
   "outputs": [],
   "source": [
    "results = vector_store.similarity_search_with_score(\n",
    "    query=query, k=2\n",
    ")"
   ]
  },
  {
   "cell_type": "code",
   "execution_count": 49,
   "metadata": {},
   "outputs": [
    {
     "name": "stdout",
     "output_type": "stream",
     "text": [
      "* [SIM=0.609396] I'm having an issue with the GoPro Hero. Please assist. I'm experiencing this issue on multiple devices of the same model, so it seems to be a widespread problem. [{'product_name': 'GoPro Hero', '_id': 'd36c329f-761a-4ce9-afc6-114cc7662f2e', '_collection_name': 'customer_support_tickets'}]\n",
      "* [SIM=0.600445] I'm having an issue with the GoPro Hero. Please assist. We have nothing to do with it. Please try to have an informed discussion about this issue with the seller. Thank you for your time!3/28 The issue I'm facing is intermittent. Sometimes it works fine, but other times it acts up unexpectedly. [{'product_name': 'GoPro Hero', '_id': 'ac33a33b-7ac8-4487-a4c2-81c8e4536ce1', '_collection_name': 'customer_support_tickets'}]\n"
     ]
    }
   ],
   "source": [
    "\n",
    "for doc, score in results:\n",
    "    print(f\"* [SIM={score:3f}] {doc.page_content} [{doc.metadata}]\")"
   ]
  },
  {
   "cell_type": "markdown",
   "metadata": {},
   "source": [
    "### Metadata Filtering"
   ]
  },
  {
   "cell_type": "code",
   "execution_count": 51,
   "metadata": {},
   "outputs": [],
   "source": [
    "from qdrant_client.http import models"
   ]
  },
  {
   "cell_type": "code",
   "execution_count": 52,
   "metadata": {},
   "outputs": [],
   "source": [
    "results = vector_store.similarity_search(\n",
    "    query=query,\n",
    "    k=2,\n",
    "    filter=models.Filter(\n",
    "        should=[\n",
    "            models.FieldCondition(\n",
    "                key=\"metadata.product_name\",\n",
    "                match=models.MatchValue(\n",
    "                    value=\"Microsoft Office\"\n",
    "                ),\n",
    "            ),\n",
    "        ]\n",
    "    ),\n",
    ")"
   ]
  },
  {
   "cell_type": "code",
   "execution_count": 53,
   "metadata": {},
   "outputs": [
    {
     "name": "stdout",
     "output_type": "stream",
     "text": [
      "* I'm having an issue with the Microsoft Office. Please assist.If you have a problem you're interested in and I'd love to see this happen, please check out the Feedback. I've already contacted customer support multiple times, but the issue remains unresolved. [{'product_name': 'Microsoft Office', '_id': '54b6594d-0744-419b-bb74-d2f7e95ad805', '_collection_name': 'customer_support_tickets'}]\n",
      "* I'm having an issue with the Microsoft Office. Please assist. I'm unable to find any results I've tried using different cables, adapters, or peripherals with my Microsoft Office, but the issue persists. [{'product_name': 'Microsoft Office', '_id': '505702b7-7cd8-46fc-8449-7bd503cb0a1c', '_collection_name': 'customer_support_tickets'}]\n"
     ]
    }
   ],
   "source": [
    "for doc in results:\n",
    "    print(f\"* {doc.page_content} [{doc.metadata}]\")"
   ]
  },
  {
   "cell_type": "markdown",
   "metadata": {},
   "source": [
    "## Building ChatBot"
   ]
  },
  {
   "cell_type": "code",
   "execution_count": 58,
   "metadata": {},
   "outputs": [],
   "source": [
    "from langchain.prompts import ChatPromptTemplate\n",
    "from langchain_openai import ChatOpenAI\n",
    "from pydantic import BaseModel, Field\n",
    "from typing import List"
   ]
  },
  {
   "cell_type": "code",
   "execution_count": 56,
   "metadata": {},
   "outputs": [],
   "source": [
    "llm = ChatOpenAI(api_key=config(\"OPENAI_API_KEY\"))"
   ]
  },
  {
   "cell_type": "code",
   "execution_count": 59,
   "metadata": {},
   "outputs": [],
   "source": [
    "class Entities(BaseModel):\n",
    "    \"\"\"Identifying information about Products.\"\"\"\n",
    "\n",
    "    names: List[str] = Field(\n",
    "        ...,\n",
    "        description=\"All product names that appear in the text\"\n",
    "    )"
   ]
  },
  {
   "cell_type": "code",
   "execution_count": 61,
   "metadata": {},
   "outputs": [],
   "source": [
    "product_extraction_prompt = ChatPromptTemplate.from_messages(\n",
    "    [\n",
    "        (\n",
    "            \"system\",\n",
    "            \"You are extracting product names from the text.\",\n",
    "        ),\n",
    "        (\n",
    "            \"human\",\n",
    "            \"Use the given format to extract information from the following \"\n",
    "            \"input: {question}\",\n",
    "        ),\n",
    "    ]\n",
    ")\n",
    "\n",
    "product_extraction_chain = product_extraction_prompt | llm.with_structured_output(Entities)\n"
   ]
  },
  {
   "cell_type": "code",
   "execution_count": 63,
   "metadata": {},
   "outputs": [
    {
     "data": {
      "text/plain": [
       "Entities(names=['GoPro Hero 10 camera'])"
      ]
     },
     "execution_count": 63,
     "metadata": {},
     "output_type": "execute_result"
    }
   ],
   "source": [
    "product_extraction_chain.invoke(\"I like my GoPro Hero 10 camera.\")"
   ]
  },
  {
   "cell_type": "markdown",
   "metadata": {},
   "source": [
    "### Actual Bot"
   ]
  },
  {
   "cell_type": "code",
   "execution_count": 76,
   "metadata": {},
   "outputs": [],
   "source": [
    "def information_retriever(question: str) -> str:\n",
    "    \"\"\"\n",
    "    Search and retrieve information from the Qdrant vector store.\n",
    "    \"\"\"\n",
    "    \n",
    "    # Get product name from the question\n",
    "    product_name = product_extraction_chain.invoke(question)\n",
    "    \n",
    "    # Filter the search results based on the product name\n",
    "    unstructured_data_results = vector_store.similarity_search(\n",
    "        query=query,\n",
    "        k=2,\n",
    "        filter=models.Filter(\n",
    "            should=[\n",
    "                models.FieldCondition(\n",
    "                    key=\"metadata.product_name\",\n",
    "                    match=models.MatchValue(\n",
    "                        value=product_name.names[0]\n",
    "                    ),\n",
    "                ),\n",
    "            ]\n",
    "        ),\n",
    "    )\n",
    "    \n",
    "    return unstructured_data_results"
   ]
  },
  {
   "cell_type": "code",
   "execution_count": 77,
   "metadata": {},
   "outputs": [],
   "source": [
    "from langchain_core.runnables import (\n",
    "    RunnableParallel,\n",
    "    RunnablePassthrough,\n",
    ")"
   ]
  },
  {
   "cell_type": "code",
   "execution_count": 78,
   "metadata": {},
   "outputs": [],
   "source": [
    "bot_chat_template = \"\"\"Answer the question based only on the following context:\n",
    "            {context}\n",
    "\n",
    "            Question: {question}\n",
    "            Use natural language and be concise.\n",
    "            Answer:\n",
    "            Context Used:\n",
    "            You are also required to return the context used to answer the question. The context should be the whole context provided \n",
    "            to you, do not modify it. If no context was provided do not generate any context, just say no context was provided:\n",
    "        \"\"\"      "
   ]
  },
  {
   "cell_type": "code",
   "execution_count": 79,
   "metadata": {},
   "outputs": [],
   "source": [
    "class ResponseFormat(BaseModel):\n",
    "    \"\"\"Identifying information about Products.\"\"\"\n",
    "\n",
    "    answer: str = Field(\n",
    "        ...,\n",
    "        description=\"Your response to the user query.\"\n",
    "    )\n",
    "    sources: List[str] = Field(\n",
    "        ...,\n",
    "        description=\"The sources, contexts used to generate the response.\"\n",
    "    )"
   ]
  },
  {
   "cell_type": "code",
   "execution_count": 80,
   "metadata": {},
   "outputs": [],
   "source": [
    "bot_chat_prompt = ChatPromptTemplate.from_template(bot_chat_template)\n",
    "chat_chain = (\n",
    "    RunnableParallel(\n",
    "        {\n",
    "            \"context\": information_retriever,\n",
    "            \"question\": RunnablePassthrough(),\n",
    "        }\n",
    "    )\n",
    "    | bot_chat_prompt\n",
    "    | llm.with_structured_output(ResponseFormat)\n",
    ")  "
   ]
  },
  {
   "cell_type": "code",
   "execution_count": 83,
   "metadata": {},
   "outputs": [],
   "source": [
    "response = chat_chain.invoke(\"What are the common complaints regarding the GoPro Hero?\")"
   ]
  },
  {
   "cell_type": "code",
   "execution_count": 85,
   "metadata": {},
   "outputs": [
    {
     "data": {
      "text/plain": [
       "ResponseFormat(answer='The common complaints regarding the GoPro Hero include widespread issues experienced on multiple devices of the same model and intermittent performance problems.', sources=['Document(metadata={\\'product_name\\': \\'GoPro Hero\\', \\'_id\\': \\'d36c329f-761a-4ce9-afc6-114cc7662f2e\\', \\'_collection_name\\': \\'customer_support_tickets\\'}, page_content=\"I\\'m having an issue with the GoPro Hero. Please assist. I\\'m experiencing this issue on multiple devices of the same model, so it seems to be a widespread problem.\"), Document(metadata={\\'product_name\\': \\'GoPro Hero\\', \\'_id\\': \\'ac33a33b-7ac8-4487-a4c2-81c8e4536ce1\\', \\'_collection_name\\': \\'customer_support_tickets\\'}, page_content=\"I\\'m having an issue with the GoPro Hero. Please assist. We have nothing to do with it. Please try to have an informed discussion about this issue with the seller. Thank you for your time!3/28 The issue I\\'m facing is intermittent. Sometimes it works fine, but other times it acts up unexpectedly.\")'])"
      ]
     },
     "execution_count": 85,
     "metadata": {},
     "output_type": "execute_result"
    }
   ],
   "source": [
    "response"
   ]
  },
  {
   "cell_type": "code",
   "execution_count": 84,
   "metadata": {},
   "outputs": [
    {
     "name": "stdout",
     "output_type": "stream",
     "text": [
      "answer='The common complaints regarding the GoPro Hero include widespread issues experienced on multiple devices of the same model and intermittent performance problems.' sources=['Document(metadata={\\'product_name\\': \\'GoPro Hero\\', \\'_id\\': \\'d36c329f-761a-4ce9-afc6-114cc7662f2e\\', \\'_collection_name\\': \\'customer_support_tickets\\'}, page_content=\"I\\'m having an issue with the GoPro Hero. Please assist. I\\'m experiencing this issue on multiple devices of the same model, so it seems to be a widespread problem.\"), Document(metadata={\\'product_name\\': \\'GoPro Hero\\', \\'_id\\': \\'ac33a33b-7ac8-4487-a4c2-81c8e4536ce1\\', \\'_collection_name\\': \\'customer_support_tickets\\'}, page_content=\"I\\'m having an issue with the GoPro Hero. Please assist. We have nothing to do with it. Please try to have an informed discussion about this issue with the seller. Thank you for your time!3/28 The issue I\\'m facing is intermittent. Sometimes it works fine, but other times it acts up unexpectedly.\")']\n"
     ]
    }
   ],
   "source": [
    "print(response)"
   ]
  },
  {
   "cell_type": "markdown",
   "metadata": {},
   "source": [
    "## Custom Ouput Parse"
   ]
  },
  {
   "cell_type": "code",
   "execution_count": 95,
   "metadata": {},
   "outputs": [],
   "source": [
    "import json\n",
    "import ast\n",
    "from typing import Dict, List\n",
    "from langchain_core.exceptions import OutputParserException\n",
    "from langchain_core.output_parsers import BaseOutputParser\n",
    "\n",
    "class ResponseFormatParser(BaseOutputParser[Dict]):\n",
    "    \"\"\"Custom parser for ResponseFormat exception output.\"\"\"\n",
    "\n",
    "    def parse(self, text: str) -> Dict:\n",
    "        try:\n",
    "            # Parse the outer JSON structure\n",
    "            error_json = json.loads(text)\n",
    "            \n",
    "            # Extract the error message\n",
    "            error_message = error_json[\"message\"]\n",
    "            \n",
    "            # Find the start of the actual ResponseFormat content\n",
    "            start_index = error_message.index('{\"answer\"')\n",
    "            response_format_str = error_message[start_index:].strip()\n",
    "            \n",
    "            # Parse the ResponseFormat content\n",
    "            response_format = json.loads(response_format_str)\n",
    "            \n",
    "            return {\n",
    "                \"answer\": response_format[\"answer\"],\n",
    "                \"sources\": self._parse_sources(response_format[\"sources\"])\n",
    "            }\n",
    "        except Exception as e:\n",
    "            raise OutputParserException(f\"Failed to parse the output: {e}\")\n",
    "\n",
    "    def _parse_sources(self, sources: List[str]) -> List[Dict]:\n",
    "        parsed_sources = []\n",
    "        for source in sources:\n",
    "            # Extract metadata and page_content\n",
    "            metadata_str, content = source.split(\", page_content=\")\n",
    "            metadata_str = metadata_str.split(\"metadata=\")[1]\n",
    "            \n",
    "            # Safely evaluate metadata and content\n",
    "            metadata = ast.literal_eval(metadata_str)\n",
    "            content = ast.literal_eval(content.rstrip(\")\"))\n",
    "            \n",
    "            parsed_sources.append({\n",
    "                \"metadata\": metadata,\n",
    "                \"page_content\": content\n",
    "            })\n",
    "        return parsed_sources\n",
    "\n",
    "    @property\n",
    "    def _type(self) -> str:\n",
    "        return \"response_format_exception_parser\""
   ]
  },
  {
   "cell_type": "code",
   "execution_count": 96,
   "metadata": {},
   "outputs": [],
   "source": [
    "bot_chat_prompt = ChatPromptTemplate.from_template(bot_chat_template)\n",
    "chat_chain_custom_parser = (\n",
    "    RunnableParallel(\n",
    "        {\n",
    "            \"context\": information_retriever,\n",
    "            \"question\": RunnablePassthrough(),\n",
    "        }\n",
    "    )\n",
    "    | bot_chat_prompt\n",
    "    | llm.with_structured_output(ResponseFormat)\n",
    "    | ResponseFormatParser()\n",
    ")  "
   ]
  },
  {
   "cell_type": "code",
   "execution_count": 97,
   "metadata": {},
   "outputs": [
    {
     "ename": "ValidationError",
     "evalue": "1 validation error for Generation\ntext\n  str type expected (type=type_error.str)",
     "output_type": "error",
     "traceback": [
      "\u001b[0;31m---------------------------------------------------------------------------\u001b[0m",
      "\u001b[0;31mValidationError\u001b[0m                           Traceback (most recent call last)",
      "Cell \u001b[0;32mIn[97], line 1\u001b[0m\n\u001b[0;32m----> 1\u001b[0m response_custom_parser \u001b[38;5;241m=\u001b[39m \u001b[43mchat_chain_custom_parser\u001b[49m\u001b[38;5;241;43m.\u001b[39;49m\u001b[43minvoke\u001b[49m\u001b[43m(\u001b[49m\u001b[38;5;124;43m\"\u001b[39;49m\u001b[38;5;124;43mWhat are the common complaints regarding the GoPro Hero?\u001b[39;49m\u001b[38;5;124;43m\"\u001b[39;49m\u001b[43m)\u001b[49m\n",
      "File \u001b[0;32m~/Desktop/content/freelancing/articles_medium/neha_articles/customer_support_ticket_chatbot/venv/lib/python3.10/site-packages/langchain_core/runnables/base.py:2878\u001b[0m, in \u001b[0;36mRunnableSequence.invoke\u001b[0;34m(self, input, config, **kwargs)\u001b[0m\n\u001b[1;32m   2876\u001b[0m             \u001b[38;5;28minput\u001b[39m \u001b[38;5;241m=\u001b[39m context\u001b[38;5;241m.\u001b[39mrun(step\u001b[38;5;241m.\u001b[39minvoke, \u001b[38;5;28minput\u001b[39m, config, \u001b[38;5;241m*\u001b[39m\u001b[38;5;241m*\u001b[39mkwargs)\n\u001b[1;32m   2877\u001b[0m         \u001b[38;5;28;01melse\u001b[39;00m:\n\u001b[0;32m-> 2878\u001b[0m             \u001b[38;5;28minput\u001b[39m \u001b[38;5;241m=\u001b[39m \u001b[43mcontext\u001b[49m\u001b[38;5;241;43m.\u001b[39;49m\u001b[43mrun\u001b[49m\u001b[43m(\u001b[49m\u001b[43mstep\u001b[49m\u001b[38;5;241;43m.\u001b[39;49m\u001b[43minvoke\u001b[49m\u001b[43m,\u001b[49m\u001b[43m \u001b[49m\u001b[38;5;28;43minput\u001b[39;49m\u001b[43m,\u001b[49m\u001b[43m \u001b[49m\u001b[43mconfig\u001b[49m\u001b[43m)\u001b[49m\n\u001b[1;32m   2879\u001b[0m \u001b[38;5;66;03m# finish the root run\u001b[39;00m\n\u001b[1;32m   2880\u001b[0m \u001b[38;5;28;01mexcept\u001b[39;00m \u001b[38;5;167;01mBaseException\u001b[39;00m \u001b[38;5;28;01mas\u001b[39;00m e:\n",
      "File \u001b[0;32m~/Desktop/content/freelancing/articles_medium/neha_articles/customer_support_ticket_chatbot/venv/lib/python3.10/site-packages/langchain_core/output_parsers/base.py:192\u001b[0m, in \u001b[0;36mBaseOutputParser.invoke\u001b[0;34m(self, input, config)\u001b[0m\n\u001b[1;32m    183\u001b[0m     \u001b[38;5;28;01mreturn\u001b[39;00m \u001b[38;5;28mself\u001b[39m\u001b[38;5;241m.\u001b[39m_call_with_config(\n\u001b[1;32m    184\u001b[0m         \u001b[38;5;28;01mlambda\u001b[39;00m inner_input: \u001b[38;5;28mself\u001b[39m\u001b[38;5;241m.\u001b[39mparse_result(\n\u001b[1;32m    185\u001b[0m             [ChatGeneration(message\u001b[38;5;241m=\u001b[39minner_input)]\n\u001b[0;32m   (...)\u001b[0m\n\u001b[1;32m    189\u001b[0m         run_type\u001b[38;5;241m=\u001b[39m\u001b[38;5;124m\"\u001b[39m\u001b[38;5;124mparser\u001b[39m\u001b[38;5;124m\"\u001b[39m,\n\u001b[1;32m    190\u001b[0m     )\n\u001b[1;32m    191\u001b[0m \u001b[38;5;28;01melse\u001b[39;00m:\n\u001b[0;32m--> 192\u001b[0m     \u001b[38;5;28;01mreturn\u001b[39;00m \u001b[38;5;28;43mself\u001b[39;49m\u001b[38;5;241;43m.\u001b[39;49m\u001b[43m_call_with_config\u001b[49m\u001b[43m(\u001b[49m\n\u001b[1;32m    193\u001b[0m \u001b[43m        \u001b[49m\u001b[38;5;28;43;01mlambda\u001b[39;49;00m\u001b[43m \u001b[49m\u001b[43minner_input\u001b[49m\u001b[43m:\u001b[49m\u001b[43m \u001b[49m\u001b[38;5;28;43mself\u001b[39;49m\u001b[38;5;241;43m.\u001b[39;49m\u001b[43mparse_result\u001b[49m\u001b[43m(\u001b[49m\u001b[43m[\u001b[49m\u001b[43mGeneration\u001b[49m\u001b[43m(\u001b[49m\u001b[43mtext\u001b[49m\u001b[38;5;241;43m=\u001b[39;49m\u001b[43minner_input\u001b[49m\u001b[43m)\u001b[49m\u001b[43m]\u001b[49m\u001b[43m)\u001b[49m\u001b[43m,\u001b[49m\n\u001b[1;32m    194\u001b[0m \u001b[43m        \u001b[49m\u001b[38;5;28;43minput\u001b[39;49m\u001b[43m,\u001b[49m\n\u001b[1;32m    195\u001b[0m \u001b[43m        \u001b[49m\u001b[43mconfig\u001b[49m\u001b[43m,\u001b[49m\n\u001b[1;32m    196\u001b[0m \u001b[43m        \u001b[49m\u001b[43mrun_type\u001b[49m\u001b[38;5;241;43m=\u001b[39;49m\u001b[38;5;124;43m\"\u001b[39;49m\u001b[38;5;124;43mparser\u001b[39;49m\u001b[38;5;124;43m\"\u001b[39;49m\u001b[43m,\u001b[49m\n\u001b[1;32m    197\u001b[0m \u001b[43m    \u001b[49m\u001b[43m)\u001b[49m\n",
      "File \u001b[0;32m~/Desktop/content/freelancing/articles_medium/neha_articles/customer_support_ticket_chatbot/venv/lib/python3.10/site-packages/langchain_core/runnables/base.py:1785\u001b[0m, in \u001b[0;36mRunnable._call_with_config\u001b[0;34m(self, func, input, config, run_type, **kwargs)\u001b[0m\n\u001b[1;32m   1781\u001b[0m     context \u001b[38;5;241m=\u001b[39m copy_context()\n\u001b[1;32m   1782\u001b[0m     context\u001b[38;5;241m.\u001b[39mrun(_set_config_context, child_config)\n\u001b[1;32m   1783\u001b[0m     output \u001b[38;5;241m=\u001b[39m cast(\n\u001b[1;32m   1784\u001b[0m         Output,\n\u001b[0;32m-> 1785\u001b[0m         \u001b[43mcontext\u001b[49m\u001b[38;5;241;43m.\u001b[39;49m\u001b[43mrun\u001b[49m\u001b[43m(\u001b[49m\n\u001b[1;32m   1786\u001b[0m \u001b[43m            \u001b[49m\u001b[43mcall_func_with_variable_args\u001b[49m\u001b[43m,\u001b[49m\u001b[43m  \u001b[49m\u001b[38;5;66;43;03m# type: ignore[arg-type]\u001b[39;49;00m\n\u001b[1;32m   1787\u001b[0m \u001b[43m            \u001b[49m\u001b[43mfunc\u001b[49m\u001b[43m,\u001b[49m\u001b[43m  \u001b[49m\u001b[38;5;66;43;03m# type: ignore[arg-type]\u001b[39;49;00m\n\u001b[1;32m   1788\u001b[0m \u001b[43m            \u001b[49m\u001b[38;5;28;43minput\u001b[39;49m\u001b[43m,\u001b[49m\u001b[43m  \u001b[49m\u001b[38;5;66;43;03m# type: ignore[arg-type]\u001b[39;49;00m\n\u001b[1;32m   1789\u001b[0m \u001b[43m            \u001b[49m\u001b[43mconfig\u001b[49m\u001b[43m,\u001b[49m\n\u001b[1;32m   1790\u001b[0m \u001b[43m            \u001b[49m\u001b[43mrun_manager\u001b[49m\u001b[43m,\u001b[49m\n\u001b[1;32m   1791\u001b[0m \u001b[43m            \u001b[49m\u001b[38;5;241;43m*\u001b[39;49m\u001b[38;5;241;43m*\u001b[39;49m\u001b[43mkwargs\u001b[49m\u001b[43m,\u001b[49m\n\u001b[1;32m   1792\u001b[0m \u001b[43m        \u001b[49m\u001b[43m)\u001b[49m,\n\u001b[1;32m   1793\u001b[0m     )\n\u001b[1;32m   1794\u001b[0m \u001b[38;5;28;01mexcept\u001b[39;00m \u001b[38;5;167;01mBaseException\u001b[39;00m \u001b[38;5;28;01mas\u001b[39;00m e:\n\u001b[1;32m   1795\u001b[0m     run_manager\u001b[38;5;241m.\u001b[39mon_chain_error(e)\n",
      "File \u001b[0;32m~/Desktop/content/freelancing/articles_medium/neha_articles/customer_support_ticket_chatbot/venv/lib/python3.10/site-packages/langchain_core/runnables/config.py:397\u001b[0m, in \u001b[0;36mcall_func_with_variable_args\u001b[0;34m(func, input, config, run_manager, **kwargs)\u001b[0m\n\u001b[1;32m    395\u001b[0m \u001b[38;5;28;01mif\u001b[39;00m run_manager \u001b[38;5;129;01mis\u001b[39;00m \u001b[38;5;129;01mnot\u001b[39;00m \u001b[38;5;28;01mNone\u001b[39;00m \u001b[38;5;129;01mand\u001b[39;00m accepts_run_manager(func):\n\u001b[1;32m    396\u001b[0m     kwargs[\u001b[38;5;124m\"\u001b[39m\u001b[38;5;124mrun_manager\u001b[39m\u001b[38;5;124m\"\u001b[39m] \u001b[38;5;241m=\u001b[39m run_manager\n\u001b[0;32m--> 397\u001b[0m \u001b[38;5;28;01mreturn\u001b[39;00m \u001b[43mfunc\u001b[49m\u001b[43m(\u001b[49m\u001b[38;5;28;43minput\u001b[39;49m\u001b[43m,\u001b[49m\u001b[43m \u001b[49m\u001b[38;5;241;43m*\u001b[39;49m\u001b[38;5;241;43m*\u001b[39;49m\u001b[43mkwargs\u001b[49m\u001b[43m)\u001b[49m\n",
      "File \u001b[0;32m~/Desktop/content/freelancing/articles_medium/neha_articles/customer_support_ticket_chatbot/venv/lib/python3.10/site-packages/langchain_core/output_parsers/base.py:193\u001b[0m, in \u001b[0;36mBaseOutputParser.invoke.<locals>.<lambda>\u001b[0;34m(inner_input)\u001b[0m\n\u001b[1;32m    183\u001b[0m     \u001b[38;5;28;01mreturn\u001b[39;00m \u001b[38;5;28mself\u001b[39m\u001b[38;5;241m.\u001b[39m_call_with_config(\n\u001b[1;32m    184\u001b[0m         \u001b[38;5;28;01mlambda\u001b[39;00m inner_input: \u001b[38;5;28mself\u001b[39m\u001b[38;5;241m.\u001b[39mparse_result(\n\u001b[1;32m    185\u001b[0m             [ChatGeneration(message\u001b[38;5;241m=\u001b[39minner_input)]\n\u001b[0;32m   (...)\u001b[0m\n\u001b[1;32m    189\u001b[0m         run_type\u001b[38;5;241m=\u001b[39m\u001b[38;5;124m\"\u001b[39m\u001b[38;5;124mparser\u001b[39m\u001b[38;5;124m\"\u001b[39m,\n\u001b[1;32m    190\u001b[0m     )\n\u001b[1;32m    191\u001b[0m \u001b[38;5;28;01melse\u001b[39;00m:\n\u001b[1;32m    192\u001b[0m     \u001b[38;5;28;01mreturn\u001b[39;00m \u001b[38;5;28mself\u001b[39m\u001b[38;5;241m.\u001b[39m_call_with_config(\n\u001b[0;32m--> 193\u001b[0m         \u001b[38;5;28;01mlambda\u001b[39;00m inner_input: \u001b[38;5;28mself\u001b[39m\u001b[38;5;241m.\u001b[39mparse_result([\u001b[43mGeneration\u001b[49m\u001b[43m(\u001b[49m\u001b[43mtext\u001b[49m\u001b[38;5;241;43m=\u001b[39;49m\u001b[43minner_input\u001b[49m\u001b[43m)\u001b[49m]),\n\u001b[1;32m    194\u001b[0m         \u001b[38;5;28minput\u001b[39m,\n\u001b[1;32m    195\u001b[0m         config,\n\u001b[1;32m    196\u001b[0m         run_type\u001b[38;5;241m=\u001b[39m\u001b[38;5;124m\"\u001b[39m\u001b[38;5;124mparser\u001b[39m\u001b[38;5;124m\"\u001b[39m,\n\u001b[1;32m    197\u001b[0m     )\n",
      "File \u001b[0;32m~/Desktop/content/freelancing/articles_medium/neha_articles/customer_support_ticket_chatbot/venv/lib/python3.10/site-packages/langchain_core/load/serializable.py:113\u001b[0m, in \u001b[0;36mSerializable.__init__\u001b[0;34m(self, *args, **kwargs)\u001b[0m\n\u001b[1;32m    111\u001b[0m \u001b[38;5;28;01mdef\u001b[39;00m \u001b[38;5;21m__init__\u001b[39m(\u001b[38;5;28mself\u001b[39m, \u001b[38;5;241m*\u001b[39margs: Any, \u001b[38;5;241m*\u001b[39m\u001b[38;5;241m*\u001b[39mkwargs: Any) \u001b[38;5;241m-\u001b[39m\u001b[38;5;241m>\u001b[39m \u001b[38;5;28;01mNone\u001b[39;00m:\n\u001b[1;32m    112\u001b[0m \u001b[38;5;250m    \u001b[39m\u001b[38;5;124;03m\"\"\"\"\"\"\u001b[39;00m\n\u001b[0;32m--> 113\u001b[0m     \u001b[38;5;28;43msuper\u001b[39;49m\u001b[43m(\u001b[49m\u001b[43m)\u001b[49m\u001b[38;5;241;43m.\u001b[39;49m\u001b[38;5;21;43m__init__\u001b[39;49m\u001b[43m(\u001b[49m\u001b[38;5;241;43m*\u001b[39;49m\u001b[43margs\u001b[49m\u001b[43m,\u001b[49m\u001b[43m \u001b[49m\u001b[38;5;241;43m*\u001b[39;49m\u001b[38;5;241;43m*\u001b[39;49m\u001b[43mkwargs\u001b[49m\u001b[43m)\u001b[49m\n",
      "File \u001b[0;32m~/Desktop/content/freelancing/articles_medium/neha_articles/customer_support_ticket_chatbot/venv/lib/python3.10/site-packages/pydantic/v1/main.py:341\u001b[0m, in \u001b[0;36mBaseModel.__init__\u001b[0;34m(__pydantic_self__, **data)\u001b[0m\n\u001b[1;32m    339\u001b[0m values, fields_set, validation_error \u001b[38;5;241m=\u001b[39m validate_model(__pydantic_self__\u001b[38;5;241m.\u001b[39m\u001b[38;5;18m__class__\u001b[39m, data)\n\u001b[1;32m    340\u001b[0m \u001b[38;5;28;01mif\u001b[39;00m validation_error:\n\u001b[0;32m--> 341\u001b[0m     \u001b[38;5;28;01mraise\u001b[39;00m validation_error\n\u001b[1;32m    342\u001b[0m \u001b[38;5;28;01mtry\u001b[39;00m:\n\u001b[1;32m    343\u001b[0m     object_setattr(__pydantic_self__, \u001b[38;5;124m'\u001b[39m\u001b[38;5;124m__dict__\u001b[39m\u001b[38;5;124m'\u001b[39m, values)\n",
      "\u001b[0;31mValidationError\u001b[0m: 1 validation error for Generation\ntext\n  str type expected (type=type_error.str)"
     ]
    }
   ],
   "source": [
    "response_custom_parser = chat_chain_custom_parser.invoke(\"What are the common complaints regarding the GoPro Hero?\")"
   ]
  },
  {
   "cell_type": "code",
   "execution_count": null,
   "metadata": {},
   "outputs": [],
   "source": [
    "print(response_custom_parser)"
   ]
  },
  {
   "cell_type": "code",
   "execution_count": null,
   "metadata": {},
   "outputs": [],
   "source": []
  },
  {
   "cell_type": "markdown",
   "metadata": {},
   "source": [
    "- [Langchain PromptTemplates](https://python.langchain.com/v0.1/docs/modules/model_io/prompts/quick_start/)\n",
    "\n",
    "- [LangChain Qdrant Official Docs](https://python.langchain.com/v0.2/docs/integrations/vectorstores/qdrant/)\n"
   ]
  }
 ],
 "metadata": {
  "kernelspec": {
   "display_name": "venv",
   "language": "python",
   "name": "python3"
  },
  "language_info": {
   "codemirror_mode": {
    "name": "ipython",
    "version": 3
   },
   "file_extension": ".py",
   "mimetype": "text/x-python",
   "name": "python",
   "nbconvert_exporter": "python",
   "pygments_lexer": "ipython3",
   "version": "3.10.12"
  }
 },
 "nbformat": 4,
 "nbformat_minor": 2
}
